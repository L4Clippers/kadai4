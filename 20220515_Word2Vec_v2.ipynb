{
 "cells": [
  {
   "cell_type": "markdown",
   "metadata": {},
   "source": [
    "## Word2Vec まずはテスト\n",
    "### 類似単語"
   ]
  },
  {
   "cell_type": "code",
   "execution_count": 4,
   "metadata": {},
   "outputs": [
    {
     "name": "stdout",
     "output_type": "stream",
     "text": [
      "('[商標法]', 0.8437970876693726)\n",
      "('[意匠法]', 0.8095641136169434)\n",
      "('[実用新案法]', 0.8020984530448914)\n",
      "('[著作権法]', 0.7942411303520203)\n",
      "('[民事訴訟法]', 0.789833664894104)\n",
      "('民法', 0.780200183391571)\n",
      "('[民法_(日本)]', 0.779695987701416)\n",
      "('[刑事訴訟法]', 0.7774367928504944)\n",
      "('[破産法]', 0.7697336673736572)\n",
      "('[民事執行法]', 0.76458340883255)\n"
     ]
    }
   ],
   "source": [
    "from gensim.models import KeyedVectors\n",
    "model_dir = './entity_vector/entity_vector.model.bin'\n",
    "model = KeyedVectors.load_word2vec_format(model_dir, binary=True)\n",
    "results = model.most_similar(u'[特許法]')\n",
    "for result in results:\n",
    "    print(result)"
   ]
  },
  {
   "cell_type": "markdown",
   "metadata": {},
   "source": [
    "### Word2Vecにおける加減算．"
   ]
  },
  {
   "cell_type": "code",
   "execution_count": 66,
   "metadata": {},
   "outputs": [
    {
     "name": "stdout",
     "output_type": "stream",
     "text": [
      "('[乗鞍岳]', 0.5400247573852539)\n",
      "('[浅間山]', 0.4776482582092285)\n",
      "('[マウナ・ケア山]', 0.4719259440898895)\n",
      "('マウナケア山', 0.4639081060886383)\n",
      "('[山頂]', 0.460369735956192)\n",
      "('[エレバス山]', 0.4549431800842285)\n",
      "('[剱岳]', 0.4485880732536316)\n",
      "('[愛鷹山]', 0.44851332902908325)\n",
      "('[岩木山]', 0.44754981994628906)\n",
      "('聳える', 0.4475269615650177)\n"
     ]
    }
   ],
   "source": [
    "from gensim.models import KeyedVectors\n",
    "model_dir = './entity_vector/entity_vector.model.bin'\n",
    "model = KeyedVectors.load_word2vec_format(model_dir, binary=True)\n",
    "results = model.most_similar(positive=[u'[富士山]'], negative=[u'[ラーメン]'])\n",
    "for result in results:\n",
    "    print(result)\n"
   ]
  },
  {
   "cell_type": "code",
   "execution_count": 40,
   "metadata": {},
   "outputs": [
    {
     "name": "stdout",
     "output_type": "stream",
     "text": [
      "('[鶏卵]', 0.8742761015892029)\n",
      "('[小麦粉]', 0.8644213080406189)\n",
      "('[蜂蜜]', 0.8642846941947937)\n",
      "('[バター]', 0.8588325381278992)\n",
      "('[酢]', 0.8431686758995056)\n",
      "('[シロップ]', 0.8418768644332886)\n",
      "('[野菜]', 0.8352644443511963)\n",
      "('[豚肉]', 0.8309459686279297)\n",
      "('[スープ]', 0.8308255672454834)\n",
      "('果汁', 0.8299036026000977)\n"
     ]
    }
   ],
   "source": [
    "from gensim.models import KeyedVectors\n",
    "model_dir = './entity_vector/entity_vector.model.bin'\n",
    "model = KeyedVectors.load_word2vec_format(model_dir, binary=True)\n",
    "results = model.most_similar(positive=[u'[牛乳]',u'[卵]',u'[砂糖]'])\n",
    "for result in results:\n",
    "    print(result)\n"
   ]
  },
  {
   "cell_type": "code",
   "execution_count": 33,
   "metadata": {},
   "outputs": [
    {
     "name": "stdout",
     "output_type": "stream",
     "text": [
      "('[NFL]', 0.6820716261863708)\n",
      "('NBA', 0.6675677299499512)\n",
      "('NFL', 0.6446843147277832)\n",
      "('[マイケル・ジョーダン]', 0.6121430397033691)\n",
      "('[NHL]', 0.608035683631897)\n",
      "('[ボストン・セルティックス]', 0.5924797058105469)\n",
      "('ジョーダン', 0.5848484039306641)\n",
      "('ニックス', 0.576175332069397)\n",
      "('[ロサンゼルス・レイカーズ]', 0.5742203593254089)\n",
      "('カウボーイズ', 0.5731785297393799)\n"
     ]
    }
   ],
   "source": [
    "from gensim.models import KeyedVectors\n",
    "model_dir = './entity_vector/entity_vector.model.bin'\n",
    "model = KeyedVectors.load_word2vec_format(model_dir, binary=True)\n",
    "results = model.most_similar(positive=[u'[マイケル・ジャクソン]',u'[NBA]'],negative=[u'[歌]'])\n",
    "for result in results:\n",
    "    print(result)\n"
   ]
  },
  {
   "cell_type": "code",
   "execution_count": 39,
   "metadata": {},
   "outputs": [
    {
     "name": "stdout",
     "output_type": "stream",
     "text": [
      "('お菓子', 0.6709216833114624)\n",
      "('[カスタードプディング]', 0.6095064878463745)\n",
      "('[どら焼き]', 0.595401406288147)\n",
      "('ソフトクリーム', 0.5848528146743774)\n",
      "('[コロッケ]', 0.5845802426338196)\n",
      "('ケーキ', 0.5775711536407471)\n",
      "('パスタ', 0.575873851776123)\n",
      "('[オムライス]', 0.5747400522232056)\n",
      "('納豆', 0.568223237991333)\n",
      "('スイーツ', 0.5636186599731445)\n"
     ]
    }
   ],
   "source": [
    "from gensim.models import KeyedVectors\n",
    "model_dir = './entity_vector/entity_vector.model.bin'\n",
    "model = KeyedVectors.load_word2vec_format(model_dir, binary=True)\n",
    "results = model.most_similar(positive=[u'[バラク・オバマ]',u'[お菓子]'],negative=[u'[大統領]'])\n",
    "for result in results:\n",
    "    print(result)\n"
   ]
  },
  {
   "cell_type": "code",
   "execution_count": 65,
   "metadata": {},
   "outputs": [
    {
     "name": "stdout",
     "output_type": "stream",
     "text": [
      "('[東京工科大学]', 0.7297831773757935)\n",
      "('[大妻女子大学]', 0.7195581793785095)\n",
      "('[聖学院大学]', 0.7132263779640198)\n",
      "('[武蔵野大学]', 0.7096737027168274)\n",
      "('[文教大学]', 0.7095925807952881)\n",
      "('[電気通信大学]', 0.7041773200035095)\n",
      "('社会学部', 0.7040479779243469)\n",
      "('[東京大学大学院情報学環]', 0.7026987075805664)\n",
      "('[東洋英和女学院大学]', 0.7015649080276489)\n",
      "('[横浜国立大学]', 0.6978057026863098)\n"
     ]
    }
   ],
   "source": [
    "from gensim.models import KeyedVectors\n",
    "model_dir = './entity_vector/entity_vector.model.bin'\n",
    "model = KeyedVectors.load_word2vec_format(model_dir, binary=True)\n",
    "results = model.most_similar(positive=[u'[大阪電気通信大学]',u'[東京]'],negative=[u'[大阪]'])\n",
    "for result in results:\n",
    "    print(result)"
   ]
  },
  {
   "cell_type": "code",
   "execution_count": 82,
   "metadata": {},
   "outputs": [
    {
     "name": "stdout",
     "output_type": "stream",
     "text": [
      "('[揚げパン]', 0.5249091386795044)\n",
      "('[イベリコ豚]', 0.5140383839607239)\n",
      "('[ソリャンカ]', 0.5090301036834717)\n",
      "('[リコリス菓子]', 0.5027530789375305)\n",
      "('[馬肉]', 0.49994054436683655)\n",
      "('[蒸留酒]', 0.49973824620246887)\n",
      "('[ベジマイト]', 0.4968854784965515)\n",
      "('挽肉', 0.49644696712493896)\n",
      "('[ジビエ]', 0.4962506890296936)\n",
      "('[ヤシ酒]', 0.49384555220603943)\n"
     ]
    }
   ],
   "source": [
    "from gensim.models import KeyedVectors\n",
    "model_dir = './entity_vector/entity_vector.model.bin'\n",
    "model = KeyedVectors.load_word2vec_format(model_dir, binary=True)\n",
    "results = model.most_similar(positive=[u'[ドイツ]',u'[食べ物]'], negative=[u'[ベルリン]'])\n",
    "for result in results:\n",
    "    print(result)"
   ]
  },
  {
   "cell_type": "code",
   "execution_count": null,
   "metadata": {},
   "outputs": [],
   "source": []
  },
  {
   "cell_type": "code",
   "execution_count": null,
   "metadata": {},
   "outputs": [],
   "source": []
  }
 ],
 "metadata": {
  "kernelspec": {
   "display_name": "Python 3",
   "language": "python",
   "name": "python3"
  },
  "language_info": {
   "codemirror_mode": {
    "name": "ipython",
    "version": 3
   },
   "file_extension": ".py",
   "mimetype": "text/x-python",
   "name": "python",
   "nbconvert_exporter": "python",
   "pygments_lexer": "ipython3",
   "version": "3.7.6"
  }
 },
 "nbformat": 4,
 "nbformat_minor": 4
}
